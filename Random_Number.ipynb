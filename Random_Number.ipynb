{
  "nbformat": 4,
  "nbformat_minor": 0,
  "metadata": {
    "colab": {
      "provenance": [],
      "authorship_tag": "ABX9TyMRwIxaLoBsImvuXZ3mfOj9",
      "include_colab_link": true
    },
    "kernelspec": {
      "name": "python3",
      "display_name": "Python 3"
    },
    "language_info": {
      "name": "python"
    }
  },
  "cells": [
    {
      "cell_type": "markdown",
      "metadata": {
        "id": "view-in-github",
        "colab_type": "text"
      },
      "source": [
        "<a href=\"https://colab.research.google.com/github/Tyrisk13/QLC240_random-generator/blob/main/Random_Number.ipynb\" target=\"_parent\"><img src=\"https://colab.research.google.com/assets/colab-badge.svg\" alt=\"Open In Colab\"/></a>"
      ]
    },
    {
      "cell_type": "code",
      "execution_count": 7,
      "metadata": {
        "id": "mPv66w1seAoZ"
      },
      "outputs": [],
      "source": [
        "import random"
      ]
    },
    {
      "cell_type": "code",
      "source": [
        "random_list = random.sample(range(0,100000),20)\n",
        "random_list"
      ],
      "metadata": {
        "colab": {
          "base_uri": "https://localhost:8080/"
        },
        "id": "tl-UPN4RMG9f",
        "outputId": "5189c958-ef57-44d1-f94c-b2591213d13b"
      },
      "execution_count": 13,
      "outputs": [
        {
          "output_type": "execute_result",
          "data": {
            "text/plain": [
              "[11259,\n",
              " 3134,\n",
              " 49498,\n",
              " 29139,\n",
              " 4175,\n",
              " 96887,\n",
              " 81408,\n",
              " 75244,\n",
              " 46080,\n",
              " 33838,\n",
              " 92081,\n",
              " 91796,\n",
              " 83668,\n",
              " 62875,\n",
              " 69867,\n",
              " 88003,\n",
              " 92848,\n",
              " 94438,\n",
              " 24942,\n",
              " 30429]"
            ]
          },
          "metadata": {},
          "execution_count": 13
        }
      ]
    },
    {
      "cell_type": "code",
      "source": [
        "x = 13"
      ],
      "metadata": {
        "id": "JnA-vwFONm0h"
      },
      "execution_count": 10,
      "outputs": []
    },
    {
      "cell_type": "code",
      "source": [
        "random_list[x]"
      ],
      "metadata": {
        "colab": {
          "base_uri": "https://localhost:8080/"
        },
        "id": "6yzkIVt5OQ8l",
        "outputId": "b81de1cd-f4b8-43e5-d889-bf2c7dfda318"
      },
      "execution_count": 14,
      "outputs": [
        {
          "output_type": "execute_result",
          "data": {
            "text/plain": [
              "62875"
            ]
          },
          "metadata": {},
          "execution_count": 14
        }
      ]
    },
    {
      "cell_type": "code",
      "source": [
        "import random\n",
        "\n",
        "Names = [\"Ty\", \"Nolan\", \"Anabelle\", \"Maddie\", \"Filip\", \"Zoe\", \"Karoline\"]\n",
        "\n",
        "\n",
        "\n",
        "Random.seed(randomness_seed)"
      ],
      "metadata": {
        "id": "wdU0YDkkOhHE"
      },
      "execution_count": null,
      "outputs": []
    }
  ]
}